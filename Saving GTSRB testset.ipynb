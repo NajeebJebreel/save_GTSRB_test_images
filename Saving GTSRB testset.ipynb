{
 "cells": [
  {
   "cell_type": "code",
   "execution_count": 80,
   "metadata": {},
   "outputs": [],
   "source": [
    "import csv\n",
    "from collections import namedtuple\n",
    "import os\n",
    "import glob\n",
    "import cv2"
   ]
  },
  {
   "cell_type": "code",
   "execution_count": 41,
   "metadata": {},
   "outputs": [],
   "source": [
    "Annotation = namedtuple('Annotation', ['filename', 'label'])\n",
    "def read_annotations(filename):\n",
    "    annotations = []\n",
    "    with open(filename) as f:\n",
    "        reader = csv.reader(f, delimiter=',')\n",
    "        next(reader) # skip header\n",
    "        # loop over all images in current annotations file\n",
    "        for row in reader:\n",
    "            filename = row[-1] # filename is in the 0th column\n",
    "            label = int(row[-2]) # label is in the 7th column\n",
    "            annotations.append(Annotation(filename, label))\n",
    "            \n",
    "    return annotations"
   ]
  },
  {
   "cell_type": "code",
   "execution_count": 42,
   "metadata": {},
   "outputs": [],
   "source": [
    "test_annotations = read_annotations('test.csv')"
   ]
  },
  {
   "cell_type": "code",
   "execution_count": 52,
   "metadata": {},
   "outputs": [],
   "source": [
    "for row in test_annotations:\n",
    "    folder_name = row[1]\n",
    "    if os.path.isdir(os.path.join('data/test', str(folder_name))):\n",
    "        continue\n",
    "    else:\n",
    "        dr = os.mkdir(os.path.join('data/test', str(folder_name)))"
   ]
  },
  {
   "cell_type": "code",
   "execution_count": 68,
   "metadata": {},
   "outputs": [],
   "source": [
    "image_to_label = {}\n",
    "for row in test_annotations:\n",
    "    img_name, label = row[0], row[1] \n",
    "    image_to_label[img_name.split('/') [-1].lower()] = str(label)"
   ]
  },
  {
   "cell_type": "code",
   "execution_count": 76,
   "metadata": {},
   "outputs": [],
   "source": [
    "# image_to_label"
   ]
  },
  {
   "cell_type": "code",
   "execution_count": 71,
   "metadata": {},
   "outputs": [],
   "source": [
    "test_images_paths = glob.glob('test/*.png')"
   ]
  },
  {
   "cell_type": "code",
   "execution_count": 85,
   "metadata": {},
   "outputs": [],
   "source": [
    "for path in test_images_paths:\n",
    "    img_name = path.split('\\\\')[-1]\n",
    "    folder_name = image_to_label[img_name]\n",
    "    new_path = os.path.join('data\\\\test', folder_name, img_name)\n",
    "    img = cv2.imread(path)\n",
    "    img = cv2.cvtColor(img, cv2.COLOR_BGR2RGB)\n",
    "    cv2.imwrite(new_path, img)"
   ]
  }
 ],
 "metadata": {
  "kernelspec": {
   "display_name": "Python 3 (ipykernel)",
   "language": "python",
   "name": "python3"
  },
  "language_info": {
   "codemirror_mode": {
    "name": "ipython",
    "version": 3
   },
   "file_extension": ".py",
   "mimetype": "text/x-python",
   "name": "python",
   "nbconvert_exporter": "python",
   "pygments_lexer": "ipython3",
   "version": "3.8.13"
  }
 },
 "nbformat": 4,
 "nbformat_minor": 2
}
